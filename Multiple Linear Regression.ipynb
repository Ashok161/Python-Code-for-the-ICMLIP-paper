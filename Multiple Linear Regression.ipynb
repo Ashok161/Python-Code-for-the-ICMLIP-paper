{
 "cells": [
  {
   "cell_type": "code",
   "execution_count": 6,
   "id": "8c8d83b9",
   "metadata": {},
   "outputs": [
    {
     "name": "stdout",
     "output_type": "stream",
     "text": [
      "Intercept:  5.503990749618714\n",
      "Coefficients:\n",
      "Prediction for test set: [6.56969294 6.53627966 6.75440036 6.73930559 6.68783624 6.57694658\n",
      " 6.73138902 6.48352058 6.73757291 6.58783847 6.80652913 6.71233121\n",
      " 6.80416021 6.52337658 6.69756538 6.54568112 6.56756212 6.56593054\n",
      " 6.578676   6.51745318 6.82069571 6.73823414 6.78475475 6.88289319\n",
      " 6.62080739 6.86667119 6.71912814 6.69174126 6.6545496  6.55343204]\n",
      "R squared: 85.89\n",
      "Mean Absolute Error: 0.033203021710705966\n",
      "Mean Square Error: 0.0016806206761263223\n",
      "Root Mean Square Error: 0.040995373838109125\n",
      "{'alpha': 100}\n"
     ]
    },
    {
     "data": {
      "text/plain": [
       "0.8903180032114058"
      ]
     },
     "execution_count": 6,
     "metadata": {},
     "output_type": "execute_result"
    }
   ],
   "source": [
    "#Importing the libraries\n",
    "import pandas as pd\n",
    "import numpy as np\n",
    "import matplotlib.pyplot as plt\n",
    "import seaborn as sns\n",
    "from sklearn.linear_model import LinearRegression\n",
    "\n",
    "#Reading the dataset\n",
    "dataset = pd.read_csv(\"Football teams.csv\")\n",
    "dataset.head()\n",
    "\n",
    "X = dataset[['Goals', 'Shots pg' , 'yellow_cards' , 'red_cards' , 'Possession%' , 'Pass%' , 'AerialsWon']]\n",
    "y = dataset['Rating']\n",
    "\n",
    "from sklearn.model_selection import train_test_split\n",
    "X_train, X_test, y_train, y_test = train_test_split( X, y, train_size = 0.7, test_size = 0.3, random_state = 100 )\n",
    "\n",
    "#Fitting the Multiple Linear Regression model\n",
    "mlr = LinearRegression()  \n",
    "mlr.fit(X_train, y_train)\n",
    "\n",
    "print(\"Intercept: \", mlr.intercept_)\n",
    "print(\"Coefficients:\")\n",
    "list(zip(X, mlr.coef_))\n",
    "\n",
    "\n",
    "#Prediction of test set\n",
    "y_pred_mlr= mlr.predict(X_test)\n",
    "#Predicted values\n",
    "print(\"Prediction for test set: {}\".format(y_pred_mlr))\n",
    "\n",
    "\n",
    "#Model Evaluation\n",
    "from sklearn import metrics\n",
    "meanAbErr = metrics.mean_absolute_error(y_test, y_pred_mlr)\n",
    "meanSqErr = metrics.mean_squared_error(y_test, y_pred_mlr)\n",
    "rootMeanSqErr = np.sqrt(metrics.mean_squared_error(y_test, y_pred_mlr))\n",
    "print('R squared: {:.2f}'.format(mlr.score(X,y)*100))\n",
    "print('Mean Absolute Error:', meanAbErr)\n",
    "print('Mean Square Error:', meanSqErr)\n",
    "print('Root Mean Square Error:', rootMeanSqErr)\n",
    "\n",
    "from sklearn.model_selection import cross_val_score\n",
    "regression = LinearRegression()\n",
    "mse=cross_val_score(regression,X_train,y_train,scoring='neg_mean_squared_error',cv=5)\n",
    "np.mean(mse)\n",
    "\n",
    "\n",
    "from sklearn.linear_model import Ridge \n",
    "from sklearn.model_selection import GridSearchCV\n",
    "\n",
    "ridge_regressor=Ridge()\n",
    "parameters={'alpha':[1,2,3,5,6,7,5,16,17,21,29,33,37,100,150,200,300,400,500,600,700]}\n",
    "ridgecv=GridSearchCV(ridge_regressor,parameters,scoring='neg_mean_squared_error',cv=5)\n",
    "ridgecv.fit(X_train,y_train)\n",
    "print(ridgecv.best_params_)\n",
    "\n",
    "\n",
    "\n",
    "import statsmodels.api as sm\n",
    "\n",
    "# Add a constant to get an intercept\n",
    "X_train_sm = sm.add_constant(X_train)\n",
    "# Fit the resgression line using 'OLS'\n",
    "lr = sm.OLS(y_train, X_train_sm).fit()\n",
    "\n",
    "\n",
    "\n",
    "# Add a constant to X_test\n",
    "X_test_sm = sm.add_constant(X_test)\n",
    "# Predict the y values corresponding to X_test_sm\n",
    "y_pred = lr.predict(X_test_sm)\n",
    "\n",
    "y_pred.head()\n",
    "\n",
    "\n",
    "#Imporitng libraries\n",
    "from sklearn.metrics import mean_squared_error\n",
    "from sklearn.metrics import r2_score\n",
    "#R-squared value\n",
    "r2_score( y_test, y_pred ) \n",
    "\n"
   ]
  },
  {
   "cell_type": "code",
   "execution_count": 8,
   "id": "5f601f79",
   "metadata": {},
   "outputs": [
    {
     "name": "stdout",
     "output_type": "stream",
     "text": [
      "                            OLS Regression Results                            \n",
      "==============================================================================\n",
      "Dep. Variable:                 Rating   R-squared:                       0.846\n",
      "Model:                            OLS   Adj. R-squared:                  0.829\n",
      "Method:                 Least Squares   F-statistic:                     47.26\n",
      "Date:                Sat, 10 Dec 2022   Prob (F-statistic):           4.40e-22\n",
      "Time:                        02:40:59   Log-Likelihood:                 103.70\n",
      "No. Observations:                  68   AIC:                            -191.4\n",
      "Df Residuals:                      60   BIC:                            -173.6\n",
      "Df Model:                           7                                         \n",
      "Covariance Type:            nonrobust                                         \n",
      "================================================================================\n",
      "                   coef    std err          t      P>|t|      [0.025      0.975]\n",
      "--------------------------------------------------------------------------------\n",
      "const            5.5040      0.303     18.153      0.000       4.897       6.110\n",
      "Goals            0.0046      0.001      5.780      0.000       0.003       0.006\n",
      "Shots pg         0.0053      0.007      0.771      0.444      -0.008       0.019\n",
      "yellow_cards    -0.0017      0.001     -3.236      0.002      -0.003      -0.001\n",
      "red_cards       -0.0038      0.004     -0.966      0.338      -0.012       0.004\n",
      "Possession%      0.0050      0.003      1.484      0.143      -0.002       0.012\n",
      "Pass%            0.0066      0.004      1.570      0.122      -0.002       0.015\n",
      "AerialsWon       0.0123      0.004      3.029      0.004       0.004       0.020\n",
      "==============================================================================\n",
      "Omnibus:                        4.862   Durbin-Watson:                   1.961\n",
      "Prob(Omnibus):                  0.088   Jarque-Bera (JB):                4.604\n",
      "Skew:                           0.637   Prob(JB):                        0.100\n",
      "Kurtosis:                       2.946   Cond. No.                     5.79e+03\n",
      "==============================================================================\n",
      "\n",
      "Notes:\n",
      "[1] Standard Errors assume that the covariance matrix of the errors is correctly specified.\n",
      "[2] The condition number is large, 5.79e+03. This might indicate that there are\n",
      "strong multicollinearity or other numerical problems.\n"
     ]
    }
   ],
   "source": [
    "import statsmodels.api as sm\n",
    "\n",
    "# Add a constant to get an intercept\n",
    "X_train_sm = sm.add_constant(X_train)\n",
    "# Fit the resgression line using 'OLS'\n",
    "lr = sm.OLS(y_train, X_train_sm).fit()\n",
    "\n",
    "# Print the parameters,i.e. intercept and slope of the regression line obtained\n",
    "lr.params\n",
    "\n",
    "#Performing a summary operation lists out all different parameters of the regression line fitted\n",
    "print(lr.summary())\n",
    "\n"
   ]
  },
  {
   "cell_type": "code",
   "execution_count": 1,
   "id": "79c04242",
   "metadata": {},
   "outputs": [
    {
     "name": "stdout",
     "output_type": "stream",
     "text": [
      "C:\\Users\\ashok\\Downloads\\Project\n"
     ]
    }
   ],
   "source": [
    "cd Downloads/Project"
   ]
  },
  {
   "cell_type": "code",
   "execution_count": 7,
   "id": "6f7ed4f4",
   "metadata": {},
   "outputs": [
    {
     "data": {
      "text/plain": [
       "'C:\\\\Users\\\\ashok\\\\Downloads\\\\Project'"
      ]
     },
     "execution_count": 7,
     "metadata": {},
     "output_type": "execute_result"
    }
   ],
   "source": [
    "pwd"
   ]
  },
  {
   "cell_type": "code",
   "execution_count": null,
   "id": "02dfd626",
   "metadata": {},
   "outputs": [],
   "source": []
  }
 ],
 "metadata": {
  "kernelspec": {
   "display_name": "Python 3 (ipykernel)",
   "language": "python",
   "name": "python3"
  },
  "language_info": {
   "codemirror_mode": {
    "name": "ipython",
    "version": 3
   },
   "file_extension": ".py",
   "mimetype": "text/x-python",
   "name": "python",
   "nbconvert_exporter": "python",
   "pygments_lexer": "ipython3",
   "version": "3.9.12"
  }
 },
 "nbformat": 4,
 "nbformat_minor": 5
}
