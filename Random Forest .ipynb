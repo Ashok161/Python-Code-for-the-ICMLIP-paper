{
 "cells": [
  {
   "cell_type": "code",
   "execution_count": 6,
   "id": "e7561b22",
   "metadata": {},
   "outputs": [
    {
     "name": "stdout",
     "output_type": "stream",
     "text": [
      "C:\\Users\\ashok\\Downloads\\Project\n"
     ]
    }
   ],
   "source": [
    "cd Project"
   ]
  },
  {
   "cell_type": "code",
   "execution_count": 9,
   "id": "7990fd99",
   "metadata": {},
   "outputs": [],
   "source": [
    "#loading the dataset \n",
    "#Importing pandas library \n",
    "import pandas as pd \n",
    "import numpy as np\n",
    "\n",
    "#Reading the dataset \n",
    "mydata=pd.read_csv('Football teams.csv')\n",
    "mydata.describe()\n",
    "\n",
    "#Input and output features \n",
    "#Input features \n",
    "\n",
    "\n",
    "X = mydata.drop(['Rating' , 'Team' , 'Tournament'] , axis=1)\n",
    "\n",
    "#Output features \n",
    "\n",
    "y = mydata.drop(['Goals' , 'Shots pg' , 'yellow_cards' , 'red_cards' , 'Possession%' , 'Pass%' , 'AerialsWon' , 'Team' , 'Tournament' ] , axis=1)\n",
    "\n",
    "#Splitting the dataset into training and testing datset \n",
    "#Importing train_test_split function \n",
    "\n",
    "from sklearn.model_selection import train_test_split\n",
    "\n",
    "#Splitting the dataset \n",
    "\n",
    "X_train , X_test , y_train , y_test = train_test_split(X , y , test_size=0.21 , random_state=20)\n",
    "\n"
   ]
  },
  {
   "cell_type": "code",
   "execution_count": 8,
   "id": "128d154d",
   "metadata": {},
   "outputs": [
    {
     "name": "stdout",
     "output_type": "stream",
     "text": [
      "0.9634055306430677\n"
     ]
    }
   ],
   "source": [
    "#Random Forest Model \n",
    "from sklearn.ensemble import RandomForestRegressor\n",
    "\n",
    "#Instantion of the mode \n",
    "\n",
    "model = RandomForestRegressor(n_estimators=40, random_state=40)\n",
    "\n",
    "#Fitting the model \n",
    "LL_rf = model.fit(X_train , y_train.values.ravel())\n",
    "\n",
    "\n",
    "#Training the mode evaluation \n",
    "#The training r_sq\n",
    "\n",
    "print(LL_rf.score(X_train , y_train.values.ravel()))\n",
    "\n",
    "\n"
   ]
  },
  {
   "cell_type": "code",
   "execution_count": 142,
   "id": "5e9f67d1",
   "metadata": {},
   "outputs": [
    {
     "name": "stdout",
     "output_type": "stream",
     "text": [
      "0.01944805194805163\n"
     ]
    }
   ],
   "source": [
    "from sklearn.metrics import mean_absolute_error , mean_squared_error , explained_variance_score , r2_score\n",
    "#Prediction on the training dataset \n",
    "ytrain_pred = LL_rf.predict(X_train)\n",
    "\n",
    "#The MAE \n",
    "\n",
    "print( mean_absolute_error(y_train , ytrain_pred))"
   ]
  },
  {
   "cell_type": "code",
   "execution_count": 116,
   "id": "36048be7",
   "metadata": {},
   "outputs": [
    {
     "name": "stdout",
     "output_type": "stream",
     "text": [
      "0.0005819415584415546\n"
     ]
    }
   ],
   "source": [
    "#The MSE \n",
    "\n",
    "print( mean_squared_error(y_train , ytrain_pred))"
   ]
  },
  {
   "cell_type": "code",
   "execution_count": 117,
   "id": "c71d8f52",
   "metadata": {
    "scrolled": true
   },
   "outputs": [
    {
     "name": "stdout",
     "output_type": "stream",
     "text": [
      "0.9634055412491411\n"
     ]
    }
   ],
   "source": [
    "#The EVS \n",
    "print(explained_variance_score(y_train , ytrain_pred))"
   ]
  },
  {
   "cell_type": "code",
   "execution_count": 118,
   "id": "c4b3033f",
   "metadata": {},
   "outputs": [
    {
     "name": "stdout",
     "output_type": "stream",
     "text": [
      "0.02412346489295339\n"
     ]
    }
   ],
   "source": [
    "#The RMSE \n",
    "print(np.sqrt(mean_squared_error(y_train , ytrain_pred)))"
   ]
  },
  {
   "cell_type": "code",
   "execution_count": 10,
   "id": "698a9cab",
   "metadata": {},
   "outputs": [
    {
     "name": "stdout",
     "output_type": "stream",
     "text": [
      "[6.5305  6.5235  6.821   6.579   6.57425 6.7255  6.84175 6.583   6.86275\n",
      " 6.6     6.592   6.50575 6.47725 6.5075  6.777   6.5575  6.77525 6.58925\n",
      " 6.58    6.74575 6.72125]\n"
     ]
    }
   ],
   "source": [
    "#Predicting the testing data \n",
    "\n",
    "ytest_pred = LL_rf.predict(X_test)\n",
    "print(ytest_pred)\n"
   ]
  },
  {
   "cell_type": "code",
   "execution_count": 120,
   "id": "0fec98c8",
   "metadata": {},
   "outputs": [
    {
     "name": "stdout",
     "output_type": "stream",
     "text": [
      "0.8064227798881923\n"
     ]
    }
   ],
   "source": [
    "#The testing coeff of determination \n",
    "\n",
    "print(LL_rf.score(X_test,y_test))\n"
   ]
  },
  {
   "cell_type": "code",
   "execution_count": 121,
   "id": "d6c70c1b",
   "metadata": {
    "scrolled": true
   },
   "outputs": [
    {
     "name": "stdout",
     "output_type": "stream",
     "text": [
      "0.055773809523809045\n"
     ]
    }
   ],
   "source": [
    "#The metrics \n",
    "#The MAE\n",
    "print( mean_absolute_error(y_test , ytest_pred))"
   ]
  },
  {
   "cell_type": "code",
   "execution_count": 122,
   "id": "ba1bc78e",
   "metadata": {},
   "outputs": [
    {
     "name": "stdout",
     "output_type": "stream",
     "text": [
      "0.004286967261904666\n"
     ]
    }
   ],
   "source": [
    "#The MSE\n",
    "print( mean_squared_error(y_test , ytest_pred))"
   ]
  },
  {
   "cell_type": "code",
   "execution_count": 123,
   "id": "554324b3",
   "metadata": {},
   "outputs": [
    {
     "name": "stdout",
     "output_type": "stream",
     "text": [
      "0.06547493613517058\n"
     ]
    }
   ],
   "source": [
    "#The RMSE\n",
    "print( np.sqrt(mean_squared_error(y_test , ytest_pred)))"
   ]
  },
  {
   "cell_type": "code",
   "execution_count": 11,
   "id": "b4d3fc78",
   "metadata": {
    "scrolled": true
   },
   "outputs": [
    {
     "name": "stdout",
     "output_type": "stream",
     "text": [
      "0.809373208142206\n",
      "0.8064227798881923\n"
     ]
    }
   ],
   "source": [
    "#The EVS\n",
    "print(explained_variance_score(y_test , ytest_pred))\n",
    "print(r2_score(y_test,ytest_pred))"
   ]
  },
  {
   "cell_type": "code",
   "execution_count": 143,
   "id": "f63de47c",
   "metadata": {
    "scrolled": true
   },
   "outputs": [
    {
     "data": {
      "text/plain": [
       "Text(0.5, 0, ' Testing Sample data ')"
      ]
     },
     "execution_count": 143,
     "metadata": {},
     "output_type": "execute_result"
    },
    {
     "data": {
      "image/png": "[encoded data removed]",
      "text/plain": [
       "<Figure size 720x432 with 1 Axes>"
      ]
     },
     "metadata": {},
     "output_type": "display_data"
    }
   ],
   "source": [
    "\n",
    "#Plotting the observed and predicted data\n",
    "import matplotlib.pyplot as plt \n",
    "#Setting the boundaries and parameters\n",
    "plt.rcParams['figure.figsize']=(10,6)\n",
    "x_ax = range(len(X_test))\n",
    "#Plotting \n",
    "plt.plot(x_ax , y_test.values.ravel())\n",
    "plt.plot(x_ax , ytest_pred)\n",
    "plt.ylabel(\"Rating\")\n",
    "plt.xlabel(\" Testing Sample data \")"
   ]
  },
  {
   "cell_type": "code",
   "execution_count": 129,
   "id": "3135fc32",
   "metadata": {},
   "outputs": [
    {
     "name": "stderr",
     "output_type": "stream",
     "text": [
      "C:\\Users\\ashok\\anaconda3\\lib\\site-packages\\sklearn\\base.py:450: UserWarning: X does not have valid feature names, but RandomForestRegressor was fitted with feature names\n",
      "  warnings.warn(\n"
     ]
    },
    {
     "data": {
      "image/png": "[encoded data removed]",
      "text/plain": [
       "<Figure size 576x396 with 1 Axes>"
      ]
     },
     "metadata": {},
     "output_type": "display_data"
    },
    {
     "data": {
      "text/plain": [
       "<AxesSubplot:title={'center':'Prediction Error for RandomForestRegressor'}, xlabel='$y$', ylabel='$\\\\hat{y}$'>"
      ]
     },
     "execution_count": 129,
     "metadata": {},
     "output_type": "execute_result"
    }
   ],
   "source": [
    "#Plotting the prediction errors and residuals using yellowbrick \n",
    "#Plotting the prediction errors \n",
    "import yellowbrick\n",
    "from yellowbrick.regressor import PredictionError\n",
    "visualizer = PredictionError(LL_rf)\n",
    "visualizer.fit(X_train , y_train)\n",
    "visualizer.score(X_test,y_test.values.ravel())\n",
    "visualizer.poof()"
   ]
  },
  {
   "cell_type": "code",
   "execution_count": 133,
   "id": "b7716de4",
   "metadata": {},
   "outputs": [
    {
     "name": "stderr",
     "output_type": "stream",
     "text": [
      "C:\\Users\\ashok\\anaconda3\\lib\\site-packages\\sklearn\\model_selection\\_validation.py:680: DataConversionWarning: A column-vector y was passed when a 1d array was expected. Please change the shape of y to (n_samples,), for example using ravel().\n",
      "  estimator.fit(X_train, y_train, **fit_params)\n",
      "C:\\Users\\ashok\\anaconda3\\lib\\site-packages\\sklearn\\model_selection\\_validation.py:680: DataConversionWarning: A column-vector y was passed when a 1d array was expected. Please change the shape of y to (n_samples,), for example using ravel().\n",
      "  estimator.fit(X_train, y_train, **fit_params)\n",
      "C:\\Users\\ashok\\anaconda3\\lib\\site-packages\\sklearn\\model_selection\\_validation.py:680: DataConversionWarning: A column-vector y was passed when a 1d array was expected. Please change the shape of y to (n_samples,), for example using ravel().\n",
      "  estimator.fit(X_train, y_train, **fit_params)\n",
      "C:\\Users\\ashok\\anaconda3\\lib\\site-packages\\sklearn\\model_selection\\_validation.py:680: DataConversionWarning: A column-vector y was passed when a 1d array was expected. Please change the shape of y to (n_samples,), for example using ravel().\n",
      "  estimator.fit(X_train, y_train, **fit_params)\n",
      "C:\\Users\\ashok\\anaconda3\\lib\\site-packages\\sklearn\\model_selection\\_validation.py:680: DataConversionWarning: A column-vector y was passed when a 1d array was expected. Please change the shape of y to (n_samples,), for example using ravel().\n",
      "  estimator.fit(X_train, y_train, **fit_params)\n",
      "C:\\Users\\ashok\\anaconda3\\lib\\site-packages\\sklearn\\model_selection\\_validation.py:680: DataConversionWarning: A column-vector y was passed when a 1d array was expected. Please change the shape of y to (n_samples,), for example using ravel().\n",
      "  estimator.fit(X_train, y_train, **fit_params)\n",
      "C:\\Users\\ashok\\anaconda3\\lib\\site-packages\\sklearn\\model_selection\\_validation.py:680: DataConversionWarning: A column-vector y was passed when a 1d array was expected. Please change the shape of y to (n_samples,), for example using ravel().\n",
      "  estimator.fit(X_train, y_train, **fit_params)\n",
      "C:\\Users\\ashok\\anaconda3\\lib\\site-packages\\sklearn\\model_selection\\_validation.py:680: DataConversionWarning: A column-vector y was passed when a 1d array was expected. Please change the shape of y to (n_samples,), for example using ravel().\n",
      "  estimator.fit(X_train, y_train, **fit_params)\n",
      "C:\\Users\\ashok\\anaconda3\\lib\\site-packages\\sklearn\\model_selection\\_validation.py:680: DataConversionWarning: A column-vector y was passed when a 1d array was expected. Please change the shape of y to (n_samples,), for example using ravel().\n",
      "  estimator.fit(X_train, y_train, **fit_params)\n",
      "C:\\Users\\ashok\\anaconda3\\lib\\site-packages\\sklearn\\model_selection\\_validation.py:680: DataConversionWarning: A column-vector y was passed when a 1d array was expected. Please change the shape of y to (n_samples,), for example using ravel().\n",
      "  estimator.fit(X_train, y_train, **fit_params)\n"
     ]
    },
    {
     "data": {
      "text/plain": [
       "array([-0.0063901 , -0.00242404, -0.0046608 , -0.00657943, -0.0007296 ,\n",
       "       -0.0028311 , -0.00139268, -0.00765804, -0.00218853, -0.01062865])"
      ]
     },
     "execution_count": 133,
     "metadata": {},
     "output_type": "execute_result"
    }
   ],
   "source": [
    "#The k-fold CV \n",
    "from sklearn.model_selection import cross_val_score\n",
    "\n",
    "#Training model CV \n",
    "score_train = cross_val_score(LL_rf,X_train , y_train , scoring='neg_mean_squared_error' , cv=10)\n",
    "\n",
    "scor_train"
   ]
  },
  {
   "cell_type": "code",
   "execution_count": 134,
   "id": "17f9b9db",
   "metadata": {},
   "outputs": [
    {
     "name": "stdout",
     "output_type": "stream",
     "text": [
      "0.004548297209821422\n"
     ]
    }
   ],
   "source": [
    "#THe absolute mean score \n",
    "from numpy import absolute\n",
    "print(absolute(np.mean(scor_train)))"
   ]
  },
  {
   "cell_type": "code",
   "execution_count": 135,
   "id": "dc9862aa",
   "metadata": {},
   "outputs": [
    {
     "name": "stdout",
     "output_type": "stream",
     "text": [
      "-0.004548297209821422\n"
     ]
    }
   ],
   "source": [
    "#THe  mean score \n",
    "from numpy import absolute\n",
    "print(np.mean(scor_train))"
   ]
  },
  {
   "cell_type": "code",
   "execution_count": 136,
   "id": "d2aeafa2",
   "metadata": {},
   "outputs": [
    {
     "name": "stderr",
     "output_type": "stream",
     "text": [
      "C:\\Users\\ashok\\anaconda3\\lib\\site-packages\\sklearn\\model_selection\\_validation.py:680: DataConversionWarning: A column-vector y was passed when a 1d array was expected. Please change the shape of y to (n_samples,), for example using ravel().\n",
      "  estimator.fit(X_train, y_train, **fit_params)\n",
      "C:\\Users\\ashok\\anaconda3\\lib\\site-packages\\sklearn\\model_selection\\_validation.py:680: DataConversionWarning: A column-vector y was passed when a 1d array was expected. Please change the shape of y to (n_samples,), for example using ravel().\n",
      "  estimator.fit(X_train, y_train, **fit_params)\n",
      "C:\\Users\\ashok\\anaconda3\\lib\\site-packages\\sklearn\\model_selection\\_validation.py:680: DataConversionWarning: A column-vector y was passed when a 1d array was expected. Please change the shape of y to (n_samples,), for example using ravel().\n",
      "  estimator.fit(X_train, y_train, **fit_params)\n",
      "C:\\Users\\ashok\\anaconda3\\lib\\site-packages\\sklearn\\model_selection\\_validation.py:680: DataConversionWarning: A column-vector y was passed when a 1d array was expected. Please change the shape of y to (n_samples,), for example using ravel().\n",
      "  estimator.fit(X_train, y_train, **fit_params)\n",
      "C:\\Users\\ashok\\anaconda3\\lib\\site-packages\\sklearn\\model_selection\\_validation.py:680: DataConversionWarning: A column-vector y was passed when a 1d array was expected. Please change the shape of y to (n_samples,), for example using ravel().\n",
      "  estimator.fit(X_train, y_train, **fit_params)\n",
      "C:\\Users\\ashok\\anaconda3\\lib\\site-packages\\sklearn\\model_selection\\_validation.py:680: DataConversionWarning: A column-vector y was passed when a 1d array was expected. Please change the shape of y to (n_samples,), for example using ravel().\n",
      "  estimator.fit(X_train, y_train, **fit_params)\n",
      "C:\\Users\\ashok\\anaconda3\\lib\\site-packages\\sklearn\\model_selection\\_validation.py:680: DataConversionWarning: A column-vector y was passed when a 1d array was expected. Please change the shape of y to (n_samples,), for example using ravel().\n",
      "  estimator.fit(X_train, y_train, **fit_params)\n",
      "C:\\Users\\ashok\\anaconda3\\lib\\site-packages\\sklearn\\model_selection\\_validation.py:680: DataConversionWarning: A column-vector y was passed when a 1d array was expected. Please change the shape of y to (n_samples,), for example using ravel().\n",
      "  estimator.fit(X_train, y_train, **fit_params)\n",
      "C:\\Users\\ashok\\anaconda3\\lib\\site-packages\\sklearn\\model_selection\\_validation.py:680: DataConversionWarning: A column-vector y was passed when a 1d array was expected. Please change the shape of y to (n_samples,), for example using ravel().\n",
      "  estimator.fit(X_train, y_train, **fit_params)\n",
      "C:\\Users\\ashok\\anaconda3\\lib\\site-packages\\sklearn\\model_selection\\_validation.py:680: DataConversionWarning: A column-vector y was passed when a 1d array was expected. Please change the shape of y to (n_samples,), for example using ravel().\n",
      "  estimator.fit(X_train, y_train, **fit_params)\n"
     ]
    },
    {
     "data": {
      "text/plain": [
       "array([-0.00093835, -0.00063281, -0.00274212, -0.01900991, -0.00544366,\n",
       "       -0.00096231, -0.00556928, -0.01305856, -0.00970563, -0.00036003])"
      ]
     },
     "execution_count": 136,
     "metadata": {},
     "output_type": "execute_result"
    }
   ],
   "source": [
    "#Testing  model CV  or On the testing dataset\n",
    "score_test = cross_val_score(LL_rf,X_test , y_test , scoring='neg_mean_squared_error' , cv=10)\n",
    "\n",
    "score_test"
   ]
  },
  {
   "cell_type": "code",
   "execution_count": 137,
   "id": "50aa8af0",
   "metadata": {},
   "outputs": [
    {
     "name": "stdout",
     "output_type": "stream",
     "text": [
      "0.00584226666666674\n"
     ]
    }
   ],
   "source": [
    "print(absolute(np.mean(score_test)))"
   ]
  },
  {
   "cell_type": "code",
   "execution_count": 140,
   "id": "c99b59f3",
   "metadata": {},
   "outputs": [
    {
     "name": "stdout",
     "output_type": "stream",
     "text": [
      "Goals           0.644375\n",
      "Shots pg        0.150464\n",
      "yellow_cards    0.057535\n",
      "Pass%           0.055915\n",
      "Possession%     0.034974\n",
      "red_cards       0.032383\n",
      "AerialsWon      0.024352\n",
      "dtype: float64\n"
     ]
    }
   ],
   "source": [
    "#Random Forest Feature Ranking \n",
    "#Import pandas as pd \n",
    "\n",
    "from sklearn.pipeline import Pipeline\n",
    "\n",
    "f_list = list(X.columns)\n",
    "f_importance  = pd.Series(LL_rf.feature_importances_ , index = f_list).sort_values(ascending = False)\n",
    "print(f_importance)"
   ]
  },
  {
   "cell_type": "code",
   "execution_count": 141,
   "id": "21462e55",
   "metadata": {},
   "outputs": [
    {
     "name": "stdout",
     "output_type": "stream",
     "text": [
      "                            OLS Regression Results                            \n",
      "==============================================================================\n",
      "Dep. Variable:                 Rating   R-squared:                       0.865\n",
      "Model:                            OLS   Adj. R-squared:                  0.852\n",
      "Method:                 Least Squares   F-statistic:                     63.33\n",
      "Date:                Sat, 10 Dec 2022   Prob (F-statistic):           1.54e-27\n",
      "Time:                        02:43:52   Log-Likelihood:                 127.36\n",
      "No. Observations:                  77   AIC:                            -238.7\n",
      "Df Residuals:                      69   BIC:                            -220.0\n",
      "Df Model:                           7                                         \n",
      "Covariance Type:            nonrobust                                         \n",
      "================================================================================\n",
      "                   coef    std err          t      P>|t|      [0.025      0.975]\n",
      "--------------------------------------------------------------------------------\n",
      "const            5.2750      0.245     21.553      0.000       4.787       5.763\n",
      "Goals            0.0051      0.001      7.450      0.000       0.004       0.006\n",
      "Shots pg         0.0035      0.006      0.596      0.553      -0.008       0.015\n",
      "yellow_cards    -0.0018      0.000     -3.886      0.000      -0.003      -0.001\n",
      "red_cards       -0.0045      0.003     -1.587      0.117      -0.010       0.001\n",
      "Possession%      0.0019      0.003      0.703      0.484      -0.003       0.007\n",
      "Pass%            0.0108      0.004      3.040      0.003       0.004       0.018\n",
      "AerialsWon       0.0152      0.003      4.586      0.000       0.009       0.022\n",
      "==============================================================================\n",
      "Omnibus:                       10.324   Durbin-Watson:                   1.796\n",
      "Prob(Omnibus):                  0.006   Jarque-Bera (JB):               10.264\n",
      "Skew:                           0.797   Prob(JB):                      0.00591\n",
      "Kurtosis:                       3.811   Cond. No.                     5.76e+03\n",
      "==============================================================================\n",
      "\n",
      "Notes:\n",
      "[1] Standard Errors assume that the covariance matrix of the errors is correctly specified.\n",
      "[2] The condition number is large, 5.76e+03. This might indicate that there are\n",
      "strong multicollinearity or other numerical problems.\n"
     ]
    }
   ],
   "source": [
    "import statsmodels.api as sm\n",
    "\n",
    "# Add a constant to get an intercept\n",
    "X_train_sm = sm.add_constant(X_train)\n",
    "# Fit the resgression line using 'OLS'\n",
    "lr = sm.OLS(y_train, X_train_sm).fit()\n",
    "\n",
    "# Print the parameters,i.e. intercept and slope of the regression line obtained\n",
    "lr.params\n",
    "\n",
    "#Performing a summary operation lists out all different parameters of the regression line fitted\n",
    "print(lr.summary())\n"
   ]
  },
  {
   "cell_type": "code",
   "execution_count": 1,
   "id": "edd1204e",
   "metadata": {},
   "outputs": [
    {
     "name": "stdout",
     "output_type": "stream",
     "text": [
      "C:\\Users\\ashok\\Downloads\n"
     ]
    }
   ],
   "source": [
    "cd Downloads"
   ]
  },
  {
   "cell_type": "code",
   "execution_count": 2,
   "id": "760c28a5",
   "metadata": {},
   "outputs": [
    {
     "name": "stdout",
     "output_type": "stream",
     "text": [
      "C:\\Users\\ashok\\Downloads\\Project\n"
     ]
    }
   ],
   "source": [
    "cd Project"
   ]
  },
  {
   "cell_type": "code",
   "execution_count": 4,
   "id": "94f364c3",
   "metadata": {},
   "outputs": [
    {
     "ename": "NameError",
     "evalue": "name 'y_test' is not defined",
     "output_type": "error",
     "traceback": [
      "\u001b[1;31m---------------------------------------------------------------------------\u001b[0m",
      "\u001b[1;31mNameError\u001b[0m                                 Traceback (most recent call last)",
      "Input \u001b[1;32mIn [4]\u001b[0m, in \u001b[0;36m<cell line: 4>\u001b[1;34m()\u001b[0m\n\u001b[0;32m      1\u001b[0m \u001b[38;5;66;03m#Thon e coeff of determination\u001b[39;00m\n\u001b[0;32m      2\u001b[0m \u001b[38;5;66;03m#Training model evaluation \u001b[39;00m\n\u001b[0;32m      3\u001b[0m \u001b[38;5;28;01mfrom\u001b[39;00m \u001b[38;5;21;01msklearn\u001b[39;00m\u001b[38;5;21;01m.\u001b[39;00m\u001b[38;5;21;01mmetrics\u001b[39;00m \u001b[38;5;28;01mimport\u001b[39;00m mean_absolute_error , mean_squared_error , r2_score , explained_variance_score\n\u001b[1;32m----> 4\u001b[0m \u001b[38;5;28mprint\u001b[39m(r2_score(\u001b[43my_test\u001b[49m , ytest_pred))\n",
      "\u001b[1;31mNameError\u001b[0m: name 'y_test' is not defined"
     ]
    }
   ],
   "source": [
    "#Thon e coeff of determination\n",
    "#Training model evaluation \n",
    "from sklearn.metrics import mean_absolute_error , mean_squared_error , r2_score , explained_variance_score\n",
    "print(r2_score(y_test , ytest_pred))"
   ]
  },
  {
   "cell_type": "code",
   "execution_count": null,
   "id": "9dca97fa",
   "metadata": {},
   "outputs": [],
   "source": []
  }
 ],
 "metadata": {
  "kernelspec": {
   "display_name": "Python 3 (ipykernel)",
   "language": "python",
   "name": "python3"
  },
  "language_info": {
   "codemirror_mode": {
    "name": "ipython",
    "version": 3
   },
   "file_extension": ".py",
   "mimetype": "text/x-python",
   "name": "python",
   "nbconvert_exporter": "python",
   "pygments_lexer": "ipython3",
   "version": "3.9.12"
  }
 },
 "nbformat": 4,
 "nbformat_minor": 5
}
